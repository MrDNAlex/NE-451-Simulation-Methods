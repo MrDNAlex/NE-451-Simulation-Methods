{
 "cells": [
  {
   "cell_type": "code",
   "execution_count": 1,
   "id": "732a904a",
   "metadata": {},
   "outputs": [],
   "source": [
    "from ase import Atoms\n",
    "from ase.build import bulk\n",
    "from ase.io import write\n",
    "\n",
    "# Example: Create a bulk copper structure (FCC, lattice a=3.61 Å)\n",
    "atoms = bulk('Cu', 'fcc', a=3.61, cubic=True)\n",
    "\n",
    "# (Optional) Create a 4x4x4 supercell\n",
    "supercell = atoms.repeat((4, 4, 4))\n",
    "\n",
    "# Write to a LAMMPS data file\n",
    "write('cu.data', supercell, format='lammps-data')"
   ]
  },
  {
   "cell_type": "code",
   "execution_count": null,
   "id": "eacb7fc8",
   "metadata": {},
   "outputs": [],
   "source": [
    "from ase.io import read, write\n",
    "\n",
    "# Read structure from CIF file\n",
    "atoms = read(\"LiMn2O4_mp-22584_computed.cif\")\n",
    "\n",
    "# (Optional) Create a 4x4x4 supercell\n",
    "supercell = atoms.repeat((8, 8, 8))\n",
    "\n",
    "# Write to a LAMMPS data file\n",
    "write(\"structure.lmp\", supercell, format=\"lammps-data\")"
   ]
  },
  {
   "cell_type": "code",
   "execution_count": 3,
   "id": "c7eebf69",
   "metadata": {},
   "outputs": [],
   "source": [
    "from ase.io import read, write\n",
    "from ase.build import make_supercell\n",
    "import numpy as np\n",
    "\n",
    "# Read structure\n",
    "atoms = read(\"LiMn2O4_mp-22584_computed.cif\")\n",
    "\n",
    "# Option 1: repeat normally first (not yet cubic, just bigger)\n",
    "supercell = atoms.repeat((4, 4, 4))\n",
    "\n",
    "# Get current cell\n",
    "cell = supercell.get_cell()\n",
    "lengths = cell.lengths()   # (a, b, c)\n",
    "\n",
    "# Choose target cubic length (average or max to avoid overlap)\n",
    "L = np.mean(lengths)\n",
    "\n",
    "# Build new cubic cell\n",
    "cubic_cell = np.eye(3) * L\n",
    "supercell.set_cell(cubic_cell, scale_atoms=True)\n",
    "\n",
    "# Write to LAMMPS data file\n",
    "write(\"structure_cubic.lmp\", supercell, format=\"lammps-data\")"
   ]
  }
 ],
 "metadata": {
  "kernelspec": {
   "display_name": "venv",
   "language": "python",
   "name": "python3"
  },
  "language_info": {
   "codemirror_mode": {
    "name": "ipython",
    "version": 3
   },
   "file_extension": ".py",
   "mimetype": "text/x-python",
   "name": "python",
   "nbconvert_exporter": "python",
   "pygments_lexer": "ipython3",
   "version": "3.12.3"
  }
 },
 "nbformat": 4,
 "nbformat_minor": 5
}
