{
 "cells": [
  {
   "cell_type": "code",
   "execution_count": null,
   "id": "e020160e",
   "metadata": {},
   "outputs": [],
   "source": [
    "from ase import Atoms\n",
    "from ase.build import bulk\n",
    "from ase.io import write\n",
    "\n",
    "# Example: Create a bulk copper structure (FCC, lattice a=3.61 Å)\n",
    "atoms = bulk('Ar', 'fcc', a=5.26, cubic=True)\n",
    "\n",
    "# (Optional) Create a 4x4x4 supercell\n",
    "supercell = atoms.repeat((4, 4, 4))\n",
    "\n",
    "# Write to a LAMMPS data file\n",
    "write('Ar.data', supercell, format='lammps-data')"
   ]
  }
 ],
 "metadata": {
  "kernelspec": {
   "display_name": "venv",
   "language": "python",
   "name": "python3"
  },
  "language_info": {
   "name": "python",
   "version": "3.12.3"
  }
 },
 "nbformat": 4,
 "nbformat_minor": 5
}
