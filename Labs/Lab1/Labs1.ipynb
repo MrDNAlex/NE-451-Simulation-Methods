{
 "cells": [
  {
   "cell_type": "code",
   "execution_count": 8,
   "id": "96f9387f",
   "metadata": {},
   "outputs": [],
   "source": [
    "# Imports\n",
    "from ase import Atoms\n",
    "from ase.build import bulk\n",
    "from ase.io import write"
   ]
  },
  {
   "cell_type": "markdown",
   "id": "64a473cf",
   "metadata": {},
   "source": [
    "# Create the Input XYZ File (CU File) through Code Only"
   ]
  },
  {
   "cell_type": "code",
   "execution_count": 9,
   "id": "4c2f5c86",
   "metadata": {},
   "outputs": [],
   "source": [
    "atoms = bulk('Fe', 'bcc', cubic=True)\n",
    "\n",
    "supercell = atoms.repeat((6, 6, 6))\n",
    "\n",
    "write(\"Fe.data\", supercell, format=\"lammps-data\")"
   ]
  },
  {
   "cell_type": "markdown",
   "id": "3986c4ad",
   "metadata": {},
   "source": [
    "# Create the Input XYZ File from a CIF File"
   ]
  },
  {
   "cell_type": "code",
   "execution_count": 10,
   "id": "b730c676",
   "metadata": {},
   "outputs": [],
   "source": [
    "from ase.io import read, write\n",
    "\n",
    "# Read structure from CIF file\n",
    "atoms = read(\"Cu.cif\")\n",
    "\n",
    "# (Optional) Create a 4x4x4 supercell\n",
    "supercell = atoms.repeat((4, 4, 4))\n",
    "\n",
    "# Write to a LAMMPS data file\n",
    "write(\"cu.data\", supercell, format=\"lammps-data\")"
   ]
  },
  {
   "cell_type": "markdown",
   "id": "d02e2be7",
   "metadata": {},
   "source": []
  }
 ],
 "metadata": {
  "kernelspec": {
   "display_name": "venv",
   "language": "python",
   "name": "python3"
  },
  "language_info": {
   "codemirror_mode": {
    "name": "ipython",
    "version": 3
   },
   "file_extension": ".py",
   "mimetype": "text/x-python",
   "name": "python",
   "nbconvert_exporter": "python",
   "pygments_lexer": "ipython3",
   "version": "3.12.10"
  }
 },
 "nbformat": 4,
 "nbformat_minor": 5
}
