{
 "cells": [
  {
   "cell_type": "code",
   "execution_count": 1,
   "id": "732a904a",
   "metadata": {},
   "outputs": [
    {
     "ename": "ModuleNotFoundError",
     "evalue": "No module named 'ase'",
     "output_type": "error",
     "traceback": [
      "\u001b[31m---------------------------------------------------------------------------\u001b[39m",
      "\u001b[31mModuleNotFoundError\u001b[39m                       Traceback (most recent call last)",
      "\u001b[36mCell\u001b[39m\u001b[36m \u001b[39m\u001b[32mIn[1]\u001b[39m\u001b[32m, line 1\u001b[39m\n\u001b[32m----> \u001b[39m\u001b[32m1\u001b[39m \u001b[38;5;28;01mfrom\u001b[39;00m\u001b[38;5;250m \u001b[39m\u001b[34;01mase\u001b[39;00m\u001b[38;5;250m \u001b[39m\u001b[38;5;28;01mimport\u001b[39;00m Atoms\n\u001b[32m      2\u001b[39m \u001b[38;5;28;01mfrom\u001b[39;00m\u001b[38;5;250m \u001b[39m\u001b[34;01mase\u001b[39;00m\u001b[34;01m.\u001b[39;00m\u001b[34;01mbuild\u001b[39;00m\u001b[38;5;250m \u001b[39m\u001b[38;5;28;01mimport\u001b[39;00m bulk\n\u001b[32m      3\u001b[39m \u001b[38;5;28;01mfrom\u001b[39;00m\u001b[38;5;250m \u001b[39m\u001b[34;01mase\u001b[39;00m\u001b[34;01m.\u001b[39;00m\u001b[34;01mio\u001b[39;00m\u001b[38;5;250m \u001b[39m\u001b[38;5;28;01mimport\u001b[39;00m write\n",
      "\u001b[31mModuleNotFoundError\u001b[39m: No module named 'ase'"
     ]
    }
   ],
   "source": [
    "from ase import Atoms\n",
    "from ase.build import bulk\n",
    "from ase.io import write\n",
    "\n",
    "# Example: Create a bulk copper structure (FCC, lattice a=3.61 Å)\n",
    "atoms = bulk('Cu', 'fcc', a=3.61, cubic=True)\n",
    "\n",
    "# (Optional) Create a 4x4x4 supercell\n",
    "supercell = atoms.repeat((4, 4, 4))\n",
    "\n",
    "# Write to a LAMMPS data file\n",
    "write('cu.data', supercell, format='lammps-data')"
   ]
  },
  {
   "cell_type": "code",
   "execution_count": null,
   "id": "eacb7fc8",
   "metadata": {},
   "outputs": [],
   "source": [
    "from ase.io import read, write\n",
    "\n",
    "# Read structure from CIF file\n",
    "atoms = read(\"Cu.cif\")\n",
    "\n",
    "# (Optional) Create a 4x4x4 supercell\n",
    "supercell = atoms.repeat((4, 4, 4))\n",
    "\n",
    "# Write to a LAMMPS data file\n",
    "write(\"cu.data\", supercell, format=\"lammps-data\")"
   ]
  }
 ],
 "metadata": {
  "kernelspec": {
   "display_name": ".venv",
   "language": "python",
   "name": "python3"
  },
  "language_info": {
   "codemirror_mode": {
    "name": "ipython",
    "version": 3
   },
   "file_extension": ".py",
   "mimetype": "text/x-python",
   "name": "python",
   "nbconvert_exporter": "python",
   "pygments_lexer": "ipython3",
   "version": "3.12.10"
  }
 },
 "nbformat": 4,
 "nbformat_minor": 5
}
