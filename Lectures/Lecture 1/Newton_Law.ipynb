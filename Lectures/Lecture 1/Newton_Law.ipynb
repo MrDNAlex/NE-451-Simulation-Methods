{
 "cells": [
  {
   "cell_type": "markdown",
   "id": "3ff28094",
   "metadata": {},
   "source": [
    "# Newton’s Laws of Motion  \n",
    "\n",
    "Newton’s second law describes how the motion of an object changes under the influence of forces.  \n",
    "It states that the acceleration of a body is directly proportional to the net force acting on it:\n",
    "\n",
    "$\n",
    "m \\frac{d^2 r(t)}{dt^2} = F(t),\n",
    "$\n",
    "\n",
    "where:  \n",
    "- $m$: mass of the object  \n",
    "- $r(t)$: position as a function of time  \n",
    "- $F(t)$: total force applied  \n",
    "\n",
    "In many cases, the force comes from a potential energy function $U(r)$:  \n",
    "\n",
    "$\n",
    "F = - \\nabla U(r).\n",
    "$\n",
    "\n",
    "If the force is known, one can predict the trajectory $r(t)$ by solving this equation.  \n",
    "For simple systems (constant force, harmonic oscillator, drag, etc.), analytical solutions exist.  \n",
    "For more complex problems, numerical methods are required.  \n",
    "\n",
    "---\n",
    "\n",
    "# Simulating Particle Dynamics  \n",
    "\n",
    "Since Newton’s law is a **second-order ODE**, it is usually rewritten as two coupled first-order ODEs:  \n",
    "\n",
    "$\n",
    "\\frac{dr(t)}{dt} = v(t),\n",
    "$\n",
    "\n",
    "$\n",
    "m \\frac{dv(t)}{dt} = F(t),\n",
    "$\n",
    "\n",
    "where $v(t)$ is the velocity.  \n",
    "\n",
    "---\n",
    "\n",
    "## Discretization with the Forward Euler Method  \n",
    "\n",
    "To solve these equations numerically, we divide time into discrete steps of size $\\Delta t$.  \n",
    "The forward Euler scheme updates velocity and position at each step $n$ as follows:\n",
    "\n",
    "- **Velocity update**  \n",
    "$\n",
    "v^{n+1} = v^n + \\frac{F^n}{m} \\Delta t\n",
    "$\n",
    "\n",
    "- **Position update**  \n",
    "$\n",
    "r^{n+1} = r^n + v^{n+1} \\Delta t\n",
    "$\n",
    "\n",
    "with:  \n",
    "- $t_{n+1} = t_n + \\Delta t$  \n",
    "- $r^n = r(t_n)$: position at step $n$  \n",
    "- $v^n = v(t_n)$: velocity at step $n$  \n",
    " "
   ]
  },
  {
   "cell_type": "code",
   "execution_count": 32,
   "id": "209c80b1",
   "metadata": {},
   "outputs": [
    {
     "data": {
      "application/vnd.plotly.v1+json": {
       "config": {
        "plotlyServerURL": "https://plot.ly"
       },
       "data": [
        {
         "marker": {
          "color": "green",
          "size": 15
         },
         "mode": "markers",
         "type": "scatter",
         "x": [
          0
         ],
         "y": [
          553
         ]
        }
       ],
       "frames": [
        {
         "data": [
          {
           "marker": {
            "color": "green",
            "size": 15
           },
           "mode": "markers",
           "type": "scatter",
           "x": [
            0
           ],
           "y": [
            553
           ]
          }
         ],
         "name": "0"
        },
        {
         "data": [
          {
           "marker": {
            "color": "green",
            "size": 15
           },
           "mode": "markers",
           "type": "scatter",
           "x": [
            0.005000000000000001
           ],
           "y": [
            552.9755
           ]
          }
         ],
         "name": "1"
        },
        {
         "data": [
          {
           "marker": {
            "color": "green",
            "size": 15
           },
           "mode": "markers",
           "type": "scatter",
           "x": [
            0.010000000000000002
           ],
           "y": [
            552.9265
           ]
          }
         ],
         "name": "2"
        },
        {
         "data": [
          {
           "marker": {
            "color": "green",
            "size": 15
           },
           "mode": "markers",
           "type": "scatter",
           "x": [
            0.015000000000000003
           ],
           "y": [
            552.8530000000001
           ]
          }
         ],
         "name": "3"
        },
        {
         "data": [
          {
           "marker": {
            "color": "green",
            "size": 15
           },
           "mode": "markers",
           "type": "scatter",
           "x": [
            0.020000000000000004
           ],
           "y": [
            552.7550000000001
           ]
          }
         ],
         "name": "4"
        },
        {
         "data": [
          {
           "marker": {
            "color": "green",
            "size": 15
           },
           "mode": "markers",
           "type": "scatter",
           "x": [
            0.025000000000000005
           ],
           "y": [
            552.6325000000002
           ]
          }
         ],
         "name": "5"
        },
        {
         "data": [
          {
           "marker": {
            "color": "green",
            "size": 15
           },
           "mode": "markers",
           "type": "scatter",
           "x": [
            0.030000000000000006
           ],
           "y": [
            552.4855000000001
           ]
          }
         ],
         "name": "6"
        },
        {
         "data": [
          {
           "marker": {
            "color": "green",
            "size": 15
           },
           "mode": "markers",
           "type": "scatter",
           "x": [
            0.035
           ],
           "y": [
            552.3140000000001
           ]
          }
         ],
         "name": "7"
        },
        {
         "data": [
          {
           "marker": {
            "color": "green",
            "size": 15
           },
           "mode": "markers",
           "type": "scatter",
           "x": [
            0.04000000000000001
           ],
           "y": [
            552.118
           ]
          }
         ],
         "name": "8"
        },
        {
         "data": [
          {
           "marker": {
            "color": "green",
            "size": 15
           },
           "mode": "markers",
           "type": "scatter",
           "x": [
            0.04500000000000001
           ],
           "y": [
            551.8975
           ]
          }
         ],
         "name": "9"
        },
        {
         "data": [
          {
           "marker": {
            "color": "green",
            "size": 15
           },
           "mode": "markers",
           "type": "scatter",
           "x": [
            0.05000000000000002
           ],
           "y": [
            551.6525
           ]
          }
         ],
         "name": "10"
        },
        {
         "data": [
          {
           "marker": {
            "color": "green",
            "size": 15
           },
           "mode": "markers",
           "type": "scatter",
           "x": [
            0.05500000000000002
           ],
           "y": [
            551.383
           ]
          }
         ],
         "name": "11"
        },
        {
         "data": [
          {
           "marker": {
            "color": "green",
            "size": 15
           },
           "mode": "markers",
           "type": "scatter",
           "x": [
            0.060000000000000026
           ],
           "y": [
            551.089
           ]
          }
         ],
         "name": "12"
        },
        {
         "data": [
          {
           "marker": {
            "color": "green",
            "size": 15
           },
           "mode": "markers",
           "type": "scatter",
           "x": [
            0.06500000000000003
           ],
           "y": [
            550.7705000000001
           ]
          }
         ],
         "name": "13"
        },
        {
         "data": [
          {
           "marker": {
            "color": "green",
            "size": 15
           },
           "mode": "markers",
           "type": "scatter",
           "x": [
            0.07000000000000003
           ],
           "y": [
            550.4275000000001
           ]
          }
         ],
         "name": "14"
        },
        {
         "data": [
          {
           "marker": {
            "color": "green",
            "size": 15
           },
           "mode": "markers",
           "type": "scatter",
           "x": [
            0.07500000000000004
           ],
           "y": [
            550.0600000000002
           ]
          }
         ],
         "name": "15"
        },
        {
         "data": [
          {
           "marker": {
            "color": "green",
            "size": 15
           },
           "mode": "markers",
           "type": "scatter",
           "x": [
            0.08000000000000004
           ],
           "y": [
            549.6680000000001
           ]
          }
         ],
         "name": "16"
        },
        {
         "data": [
          {
           "marker": {
            "color": "green",
            "size": 15
           },
           "mode": "markers",
           "type": "scatter",
           "x": [
            0.08500000000000005
           ],
           "y": [
            549.2515000000001
           ]
          }
         ],
         "name": "17"
        },
        {
         "data": [
          {
           "marker": {
            "color": "green",
            "size": 15
           },
           "mode": "markers",
           "type": "scatter",
           "x": [
            0.09000000000000005
           ],
           "y": [
            548.8105
           ]
          }
         ],
         "name": "18"
        },
        {
         "data": [
          {
           "marker": {
            "color": "green",
            "size": 15
           },
           "mode": "markers",
           "type": "scatter",
           "x": [
            0.09500000000000006
           ],
           "y": [
            548.345
           ]
          }
         ],
         "name": "19"
        },
        {
         "data": [
          {
           "marker": {
            "color": "green",
            "size": 15
           },
           "mode": "markers",
           "type": "scatter",
           "x": [
            0.10000000000000006
           ],
           "y": [
            547.855
           ]
          }
         ],
         "name": "20"
        },
        {
         "data": [
          {
           "marker": {
            "color": "green",
            "size": 15
           },
           "mode": "markers",
           "type": "scatter",
           "x": [
            0.10500000000000007
           ],
           "y": [
            547.3405
           ]
          }
         ],
         "name": "21"
        },
        {
         "data": [
          {
           "marker": {
            "color": "green",
            "size": 15
           },
           "mode": "markers",
           "type": "scatter",
           "x": [
            0.11000000000000007
           ],
           "y": [
            546.8015
           ]
          }
         ],
         "name": "22"
        },
        {
         "data": [
          {
           "marker": {
            "color": "green",
            "size": 15
           },
           "mode": "markers",
           "type": "scatter",
           "x": [
            0.11500000000000007
           ],
           "y": [
            546.238
           ]
          }
         ],
         "name": "23"
        },
        {
         "data": [
          {
           "marker": {
            "color": "green",
            "size": 15
           },
           "mode": "markers",
           "type": "scatter",
           "x": [
            0.12000000000000008
           ],
           "y": [
            545.6500000000001
           ]
          }
         ],
         "name": "24"
        },
        {
         "data": [
          {
           "marker": {
            "color": "green",
            "size": 15
           },
           "mode": "markers",
           "type": "scatter",
           "x": [
            0.12500000000000008
           ],
           "y": [
            545.0375000000001
           ]
          }
         ],
         "name": "25"
        },
        {
         "data": [
          {
           "marker": {
            "color": "green",
            "size": 15
           },
           "mode": "markers",
           "type": "scatter",
           "x": [
            0.1300000000000001
           ],
           "y": [
            544.4005000000002
           ]
          }
         ],
         "name": "26"
        },
        {
         "data": [
          {
           "marker": {
            "color": "green",
            "size": 15
           },
           "mode": "markers",
           "type": "scatter",
           "x": [
            0.1350000000000001
           ],
           "y": [
            543.7390000000001
           ]
          }
         ],
         "name": "27"
        },
        {
         "data": [
          {
           "marker": {
            "color": "green",
            "size": 15
           },
           "mode": "markers",
           "type": "scatter",
           "x": [
            0.1400000000000001
           ],
           "y": [
            543.0530000000001
           ]
          }
         ],
         "name": "28"
        },
        {
         "data": [
          {
           "marker": {
            "color": "green",
            "size": 15
           },
           "mode": "markers",
           "type": "scatter",
           "x": [
            0.1450000000000001
           ],
           "y": [
            542.3425000000001
           ]
          }
         ],
         "name": "29"
        },
        {
         "data": [
          {
           "marker": {
            "color": "green",
            "size": 15
           },
           "mode": "markers",
           "type": "scatter",
           "x": [
            0.1500000000000001
           ],
           "y": [
            541.6075000000001
           ]
          }
         ],
         "name": "30"
        },
        {
         "data": [
          {
           "marker": {
            "color": "green",
            "size": 15
           },
           "mode": "markers",
           "type": "scatter",
           "x": [
            0.1550000000000001
           ],
           "y": [
            540.8480000000001
           ]
          }
         ],
         "name": "31"
        },
        {
         "data": [
          {
           "marker": {
            "color": "green",
            "size": 15
           },
           "mode": "markers",
           "type": "scatter",
           "x": [
            0.16000000000000011
           ],
           "y": [
            540.0640000000001
           ]
          }
         ],
         "name": "32"
        },
        {
         "data": [
          {
           "marker": {
            "color": "green",
            "size": 15
           },
           "mode": "markers",
           "type": "scatter",
           "x": [
            0.16500000000000012
           ],
           "y": [
            539.2555000000001
           ]
          }
         ],
         "name": "33"
        },
        {
         "data": [
          {
           "marker": {
            "color": "green",
            "size": 15
           },
           "mode": "markers",
           "type": "scatter",
           "x": [
            0.17000000000000012
           ],
           "y": [
            538.4225000000001
           ]
          }
         ],
         "name": "34"
        },
        {
         "data": [
          {
           "marker": {
            "color": "green",
            "size": 15
           },
           "mode": "markers",
           "type": "scatter",
           "x": [
            0.17500000000000013
           ],
           "y": [
            537.5650000000002
           ]
          }
         ],
         "name": "35"
        },
        {
         "data": [
          {
           "marker": {
            "color": "green",
            "size": 15
           },
           "mode": "markers",
           "type": "scatter",
           "x": [
            0.18000000000000013
           ],
           "y": [
            536.6830000000002
           ]
          }
         ],
         "name": "36"
        },
        {
         "data": [
          {
           "marker": {
            "color": "green",
            "size": 15
           },
           "mode": "markers",
           "type": "scatter",
           "x": [
            0.18500000000000014
           ],
           "y": [
            535.7765000000002
           ]
          }
         ],
         "name": "37"
        },
        {
         "data": [
          {
           "marker": {
            "color": "green",
            "size": 15
           },
           "mode": "markers",
           "type": "scatter",
           "x": [
            0.19000000000000014
           ],
           "y": [
            534.8455000000001
           ]
          }
         ],
         "name": "38"
        },
        {
         "data": [
          {
           "marker": {
            "color": "green",
            "size": 15
           },
           "mode": "markers",
           "type": "scatter",
           "x": [
            0.19500000000000015
           ],
           "y": [
            533.8900000000001
           ]
          }
         ],
         "name": "39"
        },
        {
         "data": [
          {
           "marker": {
            "color": "green",
            "size": 15
           },
           "mode": "markers",
           "type": "scatter",
           "x": [
            0.20000000000000015
           ],
           "y": [
            532.9100000000001
           ]
          }
         ],
         "name": "40"
        },
        {
         "data": [
          {
           "marker": {
            "color": "green",
            "size": 15
           },
           "mode": "markers",
           "type": "scatter",
           "x": [
            0.20500000000000015
           ],
           "y": [
            531.9055000000001
           ]
          }
         ],
         "name": "41"
        },
        {
         "data": [
          {
           "marker": {
            "color": "green",
            "size": 15
           },
           "mode": "markers",
           "type": "scatter",
           "x": [
            0.21000000000000016
           ],
           "y": [
            530.8765000000001
           ]
          }
         ],
         "name": "42"
        },
        {
         "data": [
          {
           "marker": {
            "color": "green",
            "size": 15
           },
           "mode": "markers",
           "type": "scatter",
           "x": [
            0.21500000000000016
           ],
           "y": [
            529.8230000000001
           ]
          }
         ],
         "name": "43"
        },
        {
         "data": [
          {
           "marker": {
            "color": "green",
            "size": 15
           },
           "mode": "markers",
           "type": "scatter",
           "x": [
            0.22000000000000017
           ],
           "y": [
            528.7450000000001
           ]
          }
         ],
         "name": "44"
        },
        {
         "data": [
          {
           "marker": {
            "color": "green",
            "size": 15
           },
           "mode": "markers",
           "type": "scatter",
           "x": [
            0.22500000000000017
           ],
           "y": [
            527.6425000000002
           ]
          }
         ],
         "name": "45"
        },
        {
         "data": [
          {
           "marker": {
            "color": "green",
            "size": 15
           },
           "mode": "markers",
           "type": "scatter",
           "x": [
            0.23000000000000018
           ],
           "y": [
            526.5155000000002
           ]
          }
         ],
         "name": "46"
        },
        {
         "data": [
          {
           "marker": {
            "color": "green",
            "size": 15
           },
           "mode": "markers",
           "type": "scatter",
           "x": [
            0.23500000000000018
           ],
           "y": [
            525.3640000000001
           ]
          }
         ],
         "name": "47"
        },
        {
         "data": [
          {
           "marker": {
            "color": "green",
            "size": 15
           },
           "mode": "markers",
           "type": "scatter",
           "x": [
            0.24000000000000019
           ],
           "y": [
            524.1880000000001
           ]
          }
         ],
         "name": "48"
        },
        {
         "data": [
          {
           "marker": {
            "color": "green",
            "size": 15
           },
           "mode": "markers",
           "type": "scatter",
           "x": [
            0.2450000000000002
           ],
           "y": [
            522.9875000000001
           ]
          }
         ],
         "name": "49"
        },
        {
         "data": [
          {
           "marker": {
            "color": "green",
            "size": 15
           },
           "mode": "markers",
           "type": "scatter",
           "x": [
            0.25000000000000017
           ],
           "y": [
            521.7625
           ]
          }
         ],
         "name": "50"
        },
        {
         "data": [
          {
           "marker": {
            "color": "green",
            "size": 15
           },
           "mode": "markers",
           "type": "scatter",
           "x": [
            0.25500000000000017
           ],
           "y": [
            520.513
           ]
          }
         ],
         "name": "51"
        },
        {
         "data": [
          {
           "marker": {
            "color": "green",
            "size": 15
           },
           "mode": "markers",
           "type": "scatter",
           "x": [
            0.2600000000000002
           ],
           "y": [
            519.239
           ]
          }
         ],
         "name": "52"
        },
        {
         "data": [
          {
           "marker": {
            "color": "green",
            "size": 15
           },
           "mode": "markers",
           "type": "scatter",
           "x": [
            0.2650000000000002
           ],
           "y": [
            517.9405
           ]
          }
         ],
         "name": "53"
        },
        {
         "data": [
          {
           "marker": {
            "color": "green",
            "size": 15
           },
           "mode": "markers",
           "type": "scatter",
           "x": [
            0.2700000000000002
           ],
           "y": [
            516.6175000000001
           ]
          }
         ],
         "name": "54"
        },
        {
         "data": [
          {
           "marker": {
            "color": "green",
            "size": 15
           },
           "mode": "markers",
           "type": "scatter",
           "x": [
            0.2750000000000002
           ],
           "y": [
            515.2700000000001
           ]
          }
         ],
         "name": "55"
        },
        {
         "data": [
          {
           "marker": {
            "color": "green",
            "size": 15
           },
           "mode": "markers",
           "type": "scatter",
           "x": [
            0.2800000000000002
           ],
           "y": [
            513.8980000000001
           ]
          }
         ],
         "name": "56"
        },
        {
         "data": [
          {
           "marker": {
            "color": "green",
            "size": 15
           },
           "mode": "markers",
           "type": "scatter",
           "x": [
            0.2850000000000002
           ],
           "y": [
            512.5015000000002
           ]
          }
         ],
         "name": "57"
        },
        {
         "data": [
          {
           "marker": {
            "color": "green",
            "size": 15
           },
           "mode": "markers",
           "type": "scatter",
           "x": [
            0.2900000000000002
           ],
           "y": [
            511.0805000000002
           ]
          }
         ],
         "name": "58"
        },
        {
         "data": [
          {
           "marker": {
            "color": "green",
            "size": 15
           },
           "mode": "markers",
           "type": "scatter",
           "x": [
            0.2950000000000002
           ],
           "y": [
            509.6350000000002
           ]
          }
         ],
         "name": "59"
        },
        {
         "data": [
          {
           "marker": {
            "color": "green",
            "size": 15
           },
           "mode": "markers",
           "type": "scatter",
           "x": [
            0.3000000000000002
           ],
           "y": [
            508.16500000000025
           ]
          }
         ],
         "name": "60"
        },
        {
         "data": [
          {
           "marker": {
            "color": "green",
            "size": 15
           },
           "mode": "markers",
           "type": "scatter",
           "x": [
            0.3050000000000002
           ],
           "y": [
            506.67050000000023
           ]
          }
         ],
         "name": "61"
        },
        {
         "data": [
          {
           "marker": {
            "color": "green",
            "size": 15
           },
           "mode": "markers",
           "type": "scatter",
           "x": [
            0.3100000000000002
           ],
           "y": [
            505.1515000000002
           ]
          }
         ],
         "name": "62"
        },
        {
         "data": [
          {
           "marker": {
            "color": "green",
            "size": 15
           },
           "mode": "markers",
           "type": "scatter",
           "x": [
            0.3150000000000002
           ],
           "y": [
            503.60800000000023
           ]
          }
         ],
         "name": "63"
        },
        {
         "data": [
          {
           "marker": {
            "color": "green",
            "size": 15
           },
           "mode": "markers",
           "type": "scatter",
           "x": [
            0.32000000000000023
           ],
           "y": [
            502.04000000000025
           ]
          }
         ],
         "name": "64"
        },
        {
         "data": [
          {
           "marker": {
            "color": "green",
            "size": 15
           },
           "mode": "markers",
           "type": "scatter",
           "x": [
            0.32500000000000023
           ],
           "y": [
            500.4475000000003
           ]
          }
         ],
         "name": "65"
        },
        {
         "data": [
          {
           "marker": {
            "color": "green",
            "size": 15
           },
           "mode": "markers",
           "type": "scatter",
           "x": [
            0.33000000000000024
           ],
           "y": [
            498.83050000000026
           ]
          }
         ],
         "name": "66"
        },
        {
         "data": [
          {
           "marker": {
            "color": "green",
            "size": 15
           },
           "mode": "markers",
           "type": "scatter",
           "x": [
            0.33500000000000024
           ],
           "y": [
            497.18900000000025
           ]
          }
         ],
         "name": "67"
        },
        {
         "data": [
          {
           "marker": {
            "color": "green",
            "size": 15
           },
           "mode": "markers",
           "type": "scatter",
           "x": [
            0.34000000000000025
           ],
           "y": [
            495.52300000000025
           ]
          }
         ],
         "name": "68"
        },
        {
         "data": [
          {
           "marker": {
            "color": "green",
            "size": 15
           },
           "mode": "markers",
           "type": "scatter",
           "x": [
            0.34500000000000025
           ],
           "y": [
            493.83250000000027
           ]
          }
         ],
         "name": "69"
        },
        {
         "data": [
          {
           "marker": {
            "color": "green",
            "size": 15
           },
           "mode": "markers",
           "type": "scatter",
           "x": [
            0.35000000000000026
           ],
           "y": [
            492.1175000000003
           ]
          }
         ],
         "name": "70"
        },
        {
         "data": [
          {
           "marker": {
            "color": "green",
            "size": 15
           },
           "mode": "markers",
           "type": "scatter",
           "x": [
            0.35500000000000026
           ],
           "y": [
            490.37800000000027
           ]
          }
         ],
         "name": "71"
        },
        {
         "data": [
          {
           "marker": {
            "color": "green",
            "size": 15
           },
           "mode": "markers",
           "type": "scatter",
           "x": [
            0.36000000000000026
           ],
           "y": [
            488.61400000000026
           ]
          }
         ],
         "name": "72"
        },
        {
         "data": [
          {
           "marker": {
            "color": "green",
            "size": 15
           },
           "mode": "markers",
           "type": "scatter",
           "x": [
            0.36500000000000027
           ],
           "y": [
            486.82550000000026
           ]
          }
         ],
         "name": "73"
        },
        {
         "data": [
          {
           "marker": {
            "color": "green",
            "size": 15
           },
           "mode": "markers",
           "type": "scatter",
           "x": [
            0.3700000000000003
           ],
           "y": [
            485.0125000000003
           ]
          }
         ],
         "name": "74"
        },
        {
         "data": [
          {
           "marker": {
            "color": "green",
            "size": 15
           },
           "mode": "markers",
           "type": "scatter",
           "x": [
            0.3750000000000003
           ],
           "y": [
            483.1750000000003
           ]
          }
         ],
         "name": "75"
        },
        {
         "data": [
          {
           "marker": {
            "color": "green",
            "size": 15
           },
           "mode": "markers",
           "type": "scatter",
           "x": [
            0.3800000000000003
           ],
           "y": [
            481.3130000000003
           ]
          }
         ],
         "name": "76"
        },
        {
         "data": [
          {
           "marker": {
            "color": "green",
            "size": 15
           },
           "mode": "markers",
           "type": "scatter",
           "x": [
            0.3850000000000003
           ],
           "y": [
            479.42650000000026
           ]
          }
         ],
         "name": "77"
        },
        {
         "data": [
          {
           "marker": {
            "color": "green",
            "size": 15
           },
           "mode": "markers",
           "type": "scatter",
           "x": [
            0.3900000000000003
           ],
           "y": [
            477.51550000000026
           ]
          }
         ],
         "name": "78"
        },
        {
         "data": [
          {
           "marker": {
            "color": "green",
            "size": 15
           },
           "mode": "markers",
           "type": "scatter",
           "x": [
            0.3950000000000003
           ],
           "y": [
            475.58000000000027
           ]
          }
         ],
         "name": "79"
        },
        {
         "data": [
          {
           "marker": {
            "color": "green",
            "size": 15
           },
           "mode": "markers",
           "type": "scatter",
           "x": [
            0.4000000000000003
           ],
           "y": [
            473.6200000000003
           ]
          }
         ],
         "name": "80"
        },
        {
         "data": [
          {
           "marker": {
            "color": "green",
            "size": 15
           },
           "mode": "markers",
           "type": "scatter",
           "x": [
            0.4050000000000003
           ],
           "y": [
            471.63550000000026
           ]
          }
         ],
         "name": "81"
        },
        {
         "data": [
          {
           "marker": {
            "color": "green",
            "size": 15
           },
           "mode": "markers",
           "type": "scatter",
           "x": [
            0.4100000000000003
           ],
           "y": [
            469.62650000000025
           ]
          }
         ],
         "name": "82"
        },
        {
         "data": [
          {
           "marker": {
            "color": "green",
            "size": 15
           },
           "mode": "markers",
           "type": "scatter",
           "x": [
            0.4150000000000003
           ],
           "y": [
            467.59300000000025
           ]
          }
         ],
         "name": "83"
        },
        {
         "data": [
          {
           "marker": {
            "color": "green",
            "size": 15
           },
           "mode": "markers",
           "type": "scatter",
           "x": [
            0.4200000000000003
           ],
           "y": [
            465.53500000000025
           ]
          }
         ],
         "name": "84"
        },
        {
         "data": [
          {
           "marker": {
            "color": "green",
            "size": 15
           },
           "mode": "markers",
           "type": "scatter",
           "x": [
            0.4250000000000003
           ],
           "y": [
            463.45250000000027
           ]
          }
         ],
         "name": "85"
        },
        {
         "data": [
          {
           "marker": {
            "color": "green",
            "size": 15
           },
           "mode": "markers",
           "type": "scatter",
           "x": [
            0.4300000000000003
           ],
           "y": [
            461.34550000000024
           ]
          }
         ],
         "name": "86"
        },
        {
         "data": [
          {
           "marker": {
            "color": "green",
            "size": 15
           },
           "mode": "markers",
           "type": "scatter",
           "x": [
            0.43500000000000033
           ],
           "y": [
            459.2140000000002
           ]
          }
         ],
         "name": "87"
        },
        {
         "data": [
          {
           "marker": {
            "color": "green",
            "size": 15
           },
           "mode": "markers",
           "type": "scatter",
           "x": [
            0.44000000000000034
           ],
           "y": [
            457.0580000000002
           ]
          }
         ],
         "name": "88"
        },
        {
         "data": [
          {
           "marker": {
            "color": "green",
            "size": 15
           },
           "mode": "markers",
           "type": "scatter",
           "x": [
            0.44500000000000034
           ],
           "y": [
            454.8775000000002
           ]
          }
         ],
         "name": "89"
        },
        {
         "data": [
          {
           "marker": {
            "color": "green",
            "size": 15
           },
           "mode": "markers",
           "type": "scatter",
           "x": [
            0.45000000000000034
           ],
           "y": [
            452.67250000000024
           ]
          }
         ],
         "name": "90"
        },
        {
         "data": [
          {
           "marker": {
            "color": "green",
            "size": 15
           },
           "mode": "markers",
           "type": "scatter",
           "x": [
            0.45500000000000035
           ],
           "y": [
            450.44300000000027
           ]
          }
         ],
         "name": "91"
        },
        {
         "data": [
          {
           "marker": {
            "color": "green",
            "size": 15
           },
           "mode": "markers",
           "type": "scatter",
           "x": [
            0.46000000000000035
           ],
           "y": [
            448.18900000000025
           ]
          }
         ],
         "name": "92"
        },
        {
         "data": [
          {
           "marker": {
            "color": "green",
            "size": 15
           },
           "mode": "markers",
           "type": "scatter",
           "x": [
            0.46500000000000036
           ],
           "y": [
            445.91050000000024
           ]
          }
         ],
         "name": "93"
        },
        {
         "data": [
          {
           "marker": {
            "color": "green",
            "size": 15
           },
           "mode": "markers",
           "type": "scatter",
           "x": [
            0.47000000000000036
           ],
           "y": [
            443.60750000000024
           ]
          }
         ],
         "name": "94"
        },
        {
         "data": [
          {
           "marker": {
            "color": "green",
            "size": 15
           },
           "mode": "markers",
           "type": "scatter",
           "x": [
            0.47500000000000037
           ],
           "y": [
            441.28000000000026
           ]
          }
         ],
         "name": "95"
        },
        {
         "data": [
          {
           "marker": {
            "color": "green",
            "size": 15
           },
           "mode": "markers",
           "type": "scatter",
           "x": [
            0.48000000000000037
           ],
           "y": [
            438.9280000000003
           ]
          }
         ],
         "name": "96"
        },
        {
         "data": [
          {
           "marker": {
            "color": "green",
            "size": 15
           },
           "mode": "markers",
           "type": "scatter",
           "x": [
            0.4850000000000004
           ],
           "y": [
            436.55150000000026
           ]
          }
         ],
         "name": "97"
        },
        {
         "data": [
          {
           "marker": {
            "color": "green",
            "size": 15
           },
           "mode": "markers",
           "type": "scatter",
           "x": [
            0.4900000000000004
           ],
           "y": [
            434.15050000000025
           ]
          }
         ],
         "name": "98"
        },
        {
         "data": [
          {
           "marker": {
            "color": "green",
            "size": 15
           },
           "mode": "markers",
           "type": "scatter",
           "x": [
            0.4950000000000004
           ],
           "y": [
            431.72500000000025
           ]
          }
         ],
         "name": "99"
        },
        {
         "data": [
          {
           "marker": {
            "color": "green",
            "size": 15
           },
           "mode": "markers",
           "type": "scatter",
           "x": [
            0.5000000000000003
           ],
           "y": [
            429.27500000000026
           ]
          }
         ],
         "name": "100"
        },
        {
         "data": [
          {
           "marker": {
            "color": "green",
            "size": 15
           },
           "mode": "markers",
           "type": "scatter",
           "x": [
            0.5050000000000003
           ],
           "y": [
            426.8005000000003
           ]
          }
         ],
         "name": "101"
        },
        {
         "data": [
          {
           "marker": {
            "color": "green",
            "size": 15
           },
           "mode": "markers",
           "type": "scatter",
           "x": [
            0.5100000000000003
           ],
           "y": [
            424.30150000000026
           ]
          }
         ],
         "name": "102"
        },
        {
         "data": [
          {
           "marker": {
            "color": "green",
            "size": 15
           },
           "mode": "markers",
           "type": "scatter",
           "x": [
            0.5150000000000003
           ],
           "y": [
            421.77800000000025
           ]
          }
         ],
         "name": "103"
        },
        {
         "data": [
          {
           "marker": {
            "color": "green",
            "size": 15
           },
           "mode": "markers",
           "type": "scatter",
           "x": [
            0.5200000000000004
           ],
           "y": [
            419.23000000000025
           ]
          }
         ],
         "name": "104"
        },
        {
         "data": [
          {
           "marker": {
            "color": "green",
            "size": 15
           },
           "mode": "markers",
           "type": "scatter",
           "x": [
            0.5250000000000004
           ],
           "y": [
            416.65750000000025
           ]
          }
         ],
         "name": "105"
        },
        {
         "data": [
          {
           "marker": {
            "color": "green",
            "size": 15
           },
           "mode": "markers",
           "type": "scatter",
           "x": [
            0.5300000000000004
           ],
           "y": [
            414.0605000000003
           ]
          }
         ],
         "name": "106"
        },
        {
         "data": [
          {
           "marker": {
            "color": "green",
            "size": 15
           },
           "mode": "markers",
           "type": "scatter",
           "x": [
            0.5350000000000004
           ],
           "y": [
            411.43900000000025
           ]
          }
         ],
         "name": "107"
        },
        {
         "data": [
          {
           "marker": {
            "color": "green",
            "size": 15
           },
           "mode": "markers",
           "type": "scatter",
           "x": [
            0.5400000000000004
           ],
           "y": [
            408.79300000000023
           ]
          }
         ],
         "name": "108"
        },
        {
         "data": [
          {
           "marker": {
            "color": "green",
            "size": 15
           },
           "mode": "markers",
           "type": "scatter",
           "x": [
            0.5450000000000004
           ],
           "y": [
            406.12250000000023
           ]
          }
         ],
         "name": "109"
        },
        {
         "data": [
          {
           "marker": {
            "color": "green",
            "size": 15
           },
           "mode": "markers",
           "type": "scatter",
           "x": [
            0.5500000000000004
           ],
           "y": [
            403.42750000000024
           ]
          }
         ],
         "name": "110"
        },
        {
         "data": [
          {
           "marker": {
            "color": "green",
            "size": 15
           },
           "mode": "markers",
           "type": "scatter",
           "x": [
            0.5550000000000004
           ],
           "y": [
            400.70800000000025
           ]
          }
         ],
         "name": "111"
        },
        {
         "data": [
          {
           "marker": {
            "color": "green",
            "size": 15
           },
           "mode": "markers",
           "type": "scatter",
           "x": [
            0.5600000000000004
           ],
           "y": [
            397.9640000000002
           ]
          }
         ],
         "name": "112"
        },
        {
         "data": [
          {
           "marker": {
            "color": "green",
            "size": 15
           },
           "mode": "markers",
           "type": "scatter",
           "x": [
            0.5650000000000004
           ],
           "y": [
            395.1955000000002
           ]
          }
         ],
         "name": "113"
        },
        {
         "data": [
          {
           "marker": {
            "color": "green",
            "size": 15
           },
           "mode": "markers",
           "type": "scatter",
           "x": [
            0.5700000000000004
           ],
           "y": [
            392.4025000000002
           ]
          }
         ],
         "name": "114"
        },
        {
         "data": [
          {
           "marker": {
            "color": "green",
            "size": 15
           },
           "mode": "markers",
           "type": "scatter",
           "x": [
            0.5750000000000004
           ],
           "y": [
            389.5850000000002
           ]
          }
         ],
         "name": "115"
        },
        {
         "data": [
          {
           "marker": {
            "color": "green",
            "size": 15
           },
           "mode": "markers",
           "type": "scatter",
           "x": [
            0.5800000000000004
           ],
           "y": [
            386.7430000000002
           ]
          }
         ],
         "name": "116"
        },
        {
         "data": [
          {
           "marker": {
            "color": "green",
            "size": 15
           },
           "mode": "markers",
           "type": "scatter",
           "x": [
            0.5850000000000004
           ],
           "y": [
            383.8765000000002
           ]
          }
         ],
         "name": "117"
        },
        {
         "data": [
          {
           "marker": {
            "color": "green",
            "size": 15
           },
           "mode": "markers",
           "type": "scatter",
           "x": [
            0.5900000000000004
           ],
           "y": [
            380.9855000000002
           ]
          }
         ],
         "name": "118"
        },
        {
         "data": [
          {
           "marker": {
            "color": "green",
            "size": 15
           },
           "mode": "markers",
           "type": "scatter",
           "x": [
            0.5950000000000004
           ],
           "y": [
            378.07000000000016
           ]
          }
         ],
         "name": "119"
        },
        {
         "data": [
          {
           "marker": {
            "color": "green",
            "size": 15
           },
           "mode": "markers",
           "type": "scatter",
           "x": [
            0.6000000000000004
           ],
           "y": [
            375.13000000000017
           ]
          }
         ],
         "name": "120"
        },
        {
         "data": [
          {
           "marker": {
            "color": "green",
            "size": 15
           },
           "mode": "markers",
           "type": "scatter",
           "x": [
            0.6050000000000004
           ],
           "y": [
            372.1655000000002
           ]
          }
         ],
         "name": "121"
        },
        {
         "data": [
          {
           "marker": {
            "color": "green",
            "size": 15
           },
           "mode": "markers",
           "type": "scatter",
           "x": [
            0.6100000000000004
           ],
           "y": [
            369.1765000000002
           ]
          }
         ],
         "name": "122"
        },
        {
         "data": [
          {
           "marker": {
            "color": "green",
            "size": 15
           },
           "mode": "markers",
           "type": "scatter",
           "x": [
            0.6150000000000004
           ],
           "y": [
            366.1630000000002
           ]
          }
         ],
         "name": "123"
        },
        {
         "data": [
          {
           "marker": {
            "color": "green",
            "size": 15
           },
           "mode": "markers",
           "type": "scatter",
           "x": [
            0.6200000000000004
           ],
           "y": [
            363.12500000000017
           ]
          }
         ],
         "name": "124"
        },
        {
         "data": [
          {
           "marker": {
            "color": "green",
            "size": 15
           },
           "mode": "markers",
           "type": "scatter",
           "x": [
            0.6250000000000004
           ],
           "y": [
            360.06250000000017
           ]
          }
         ],
         "name": "125"
        },
        {
         "data": [
          {
           "marker": {
            "color": "green",
            "size": 15
           },
           "mode": "markers",
           "type": "scatter",
           "x": [
            0.6300000000000004
           ],
           "y": [
            356.9755000000002
           ]
          }
         ],
         "name": "126"
        },
        {
         "data": [
          {
           "marker": {
            "color": "green",
            "size": 15
           },
           "mode": "markers",
           "type": "scatter",
           "x": [
            0.6350000000000005
           ],
           "y": [
            353.8640000000002
           ]
          }
         ],
         "name": "127"
        },
        {
         "data": [
          {
           "marker": {
            "color": "green",
            "size": 15
           },
           "mode": "markers",
           "type": "scatter",
           "x": [
            0.6400000000000005
           ],
           "y": [
            350.7280000000002
           ]
          }
         ],
         "name": "128"
        },
        {
         "data": [
          {
           "marker": {
            "color": "green",
            "size": 15
           },
           "mode": "markers",
           "type": "scatter",
           "x": [
            0.6450000000000005
           ],
           "y": [
            347.56750000000017
           ]
          }
         ],
         "name": "129"
        },
        {
         "data": [
          {
           "marker": {
            "color": "green",
            "size": 15
           },
           "mode": "markers",
           "type": "scatter",
           "x": [
            0.6500000000000005
           ],
           "y": [
            344.38250000000016
           ]
          }
         ],
         "name": "130"
        },
        {
         "data": [
          {
           "marker": {
            "color": "green",
            "size": 15
           },
           "mode": "markers",
           "type": "scatter",
           "x": [
            0.6550000000000005
           ],
           "y": [
            341.1730000000002
           ]
          }
         ],
         "name": "131"
        },
        {
         "data": [
          {
           "marker": {
            "color": "green",
            "size": 15
           },
           "mode": "markers",
           "type": "scatter",
           "x": [
            0.6600000000000005
           ],
           "y": [
            337.9390000000002
           ]
          }
         ],
         "name": "132"
        },
        {
         "data": [
          {
           "marker": {
            "color": "green",
            "size": 15
           },
           "mode": "markers",
           "type": "scatter",
           "x": [
            0.6650000000000005
           ],
           "y": [
            334.68050000000017
           ]
          }
         ],
         "name": "133"
        },
        {
         "data": [
          {
           "marker": {
            "color": "green",
            "size": 15
           },
           "mode": "markers",
           "type": "scatter",
           "x": [
            0.6700000000000005
           ],
           "y": [
            331.39750000000015
           ]
          }
         ],
         "name": "134"
        },
        {
         "data": [
          {
           "marker": {
            "color": "green",
            "size": 15
           },
           "mode": "markers",
           "type": "scatter",
           "x": [
            0.6750000000000005
           ],
           "y": [
            328.09000000000015
           ]
          }
         ],
         "name": "135"
        },
        {
         "data": [
          {
           "marker": {
            "color": "green",
            "size": 15
           },
           "mode": "markers",
           "type": "scatter",
           "x": [
            0.6800000000000005
           ],
           "y": [
            324.75800000000015
           ]
          }
         ],
         "name": "136"
        },
        {
         "data": [
          {
           "marker": {
            "color": "green",
            "size": 15
           },
           "mode": "markers",
           "type": "scatter",
           "x": [
            0.6850000000000005
           ],
           "y": [
            321.40150000000017
           ]
          }
         ],
         "name": "137"
        },
        {
         "data": [
          {
           "marker": {
            "color": "green",
            "size": 15
           },
           "mode": "markers",
           "type": "scatter",
           "x": [
            0.6900000000000005
           ],
           "y": [
            318.02050000000014
           ]
          }
         ],
         "name": "138"
        },
        {
         "data": [
          {
           "marker": {
            "color": "green",
            "size": 15
           },
           "mode": "markers",
           "type": "scatter",
           "x": [
            0.6950000000000005
           ],
           "y": [
            314.6150000000001
           ]
          }
         ],
         "name": "139"
        },
        {
         "data": [
          {
           "marker": {
            "color": "green",
            "size": 15
           },
           "mode": "markers",
           "type": "scatter",
           "x": [
            0.7000000000000005
           ],
           "y": [
            311.1850000000001
           ]
          }
         ],
         "name": "140"
        },
        {
         "data": [
          {
           "marker": {
            "color": "green",
            "size": 15
           },
           "mode": "markers",
           "type": "scatter",
           "x": [
            0.7050000000000005
           ],
           "y": [
            307.7305000000001
           ]
          }
         ],
         "name": "141"
        },
        {
         "data": [
          {
           "marker": {
            "color": "green",
            "size": 15
           },
           "mode": "markers",
           "type": "scatter",
           "x": [
            0.7100000000000005
           ],
           "y": [
            304.25150000000014
           ]
          }
         ],
         "name": "142"
        },
        {
         "data": [
          {
           "marker": {
            "color": "green",
            "size": 15
           },
           "mode": "markers",
           "type": "scatter",
           "x": [
            0.7150000000000005
           ],
           "y": [
            300.74800000000016
           ]
          }
         ],
         "name": "143"
        },
        {
         "data": [
          {
           "marker": {
            "color": "green",
            "size": 15
           },
           "mode": "markers",
           "type": "scatter",
           "x": [
            0.7200000000000005
           ],
           "y": [
            297.22000000000014
           ]
          }
         ],
         "name": "144"
        },
        {
         "data": [
          {
           "marker": {
            "color": "green",
            "size": 15
           },
           "mode": "markers",
           "type": "scatter",
           "x": [
            0.7250000000000005
           ],
           "y": [
            293.66750000000013
           ]
          }
         ],
         "name": "145"
        },
        {
         "data": [
          {
           "marker": {
            "color": "green",
            "size": 15
           },
           "mode": "markers",
           "type": "scatter",
           "x": [
            0.7300000000000005
           ],
           "y": [
            290.09050000000013
           ]
          }
         ],
         "name": "146"
        },
        {
         "data": [
          {
           "marker": {
            "color": "green",
            "size": 15
           },
           "mode": "markers",
           "type": "scatter",
           "x": [
            0.7350000000000005
           ],
           "y": [
            286.48900000000015
           ]
          }
         ],
         "name": "147"
        },
        {
         "data": [
          {
           "marker": {
            "color": "green",
            "size": 15
           },
           "mode": "markers",
           "type": "scatter",
           "x": [
            0.7400000000000005
           ],
           "y": [
            282.86300000000017
           ]
          }
         ],
         "name": "148"
        },
        {
         "data": [
          {
           "marker": {
            "color": "green",
            "size": 15
           },
           "mode": "markers",
           "type": "scatter",
           "x": [
            0.7450000000000006
           ],
           "y": [
            279.21250000000015
           ]
          }
         ],
         "name": "149"
        },
        {
         "data": [
          {
           "marker": {
            "color": "green",
            "size": 15
           },
           "mode": "markers",
           "type": "scatter",
           "x": [
            0.7500000000000006
           ],
           "y": [
            275.53750000000014
           ]
          }
         ],
         "name": "150"
        },
        {
         "data": [
          {
           "marker": {
            "color": "green",
            "size": 15
           },
           "mode": "markers",
           "type": "scatter",
           "x": [
            0.7550000000000006
           ],
           "y": [
            271.83800000000014
           ]
          }
         ],
         "name": "151"
        },
        {
         "data": [
          {
           "marker": {
            "color": "green",
            "size": 15
           },
           "mode": "markers",
           "type": "scatter",
           "x": [
            0.7600000000000006
           ],
           "y": [
            268.11400000000015
           ]
          }
         ],
         "name": "152"
        },
        {
         "data": [
          {
           "marker": {
            "color": "green",
            "size": 15
           },
           "mode": "markers",
           "type": "scatter",
           "x": [
            0.7650000000000006
           ],
           "y": [
            264.36550000000017
           ]
          }
         ],
         "name": "153"
        },
        {
         "data": [
          {
           "marker": {
            "color": "green",
            "size": 15
           },
           "mode": "markers",
           "type": "scatter",
           "x": [
            0.7700000000000006
           ],
           "y": [
            260.59250000000014
           ]
          }
         ],
         "name": "154"
        },
        {
         "data": [
          {
           "marker": {
            "color": "green",
            "size": 15
           },
           "mode": "markers",
           "type": "scatter",
           "x": [
            0.7750000000000006
           ],
           "y": [
            256.79500000000013
           ]
          }
         ],
         "name": "155"
        },
        {
         "data": [
          {
           "marker": {
            "color": "green",
            "size": 15
           },
           "mode": "markers",
           "type": "scatter",
           "x": [
            0.7800000000000006
           ],
           "y": [
            252.97300000000013
           ]
          }
         ],
         "name": "156"
        },
        {
         "data": [
          {
           "marker": {
            "color": "green",
            "size": 15
           },
           "mode": "markers",
           "type": "scatter",
           "x": [
            0.7850000000000006
           ],
           "y": [
            249.12650000000014
           ]
          }
         ],
         "name": "157"
        },
        {
         "data": [
          {
           "marker": {
            "color": "green",
            "size": 15
           },
           "mode": "markers",
           "type": "scatter",
           "x": [
            0.7900000000000006
           ],
           "y": [
            245.25550000000013
           ]
          }
         ],
         "name": "158"
        },
        {
         "data": [
          {
           "marker": {
            "color": "green",
            "size": 15
           },
           "mode": "markers",
           "type": "scatter",
           "x": [
            0.7950000000000006
           ],
           "y": [
            241.36000000000013
           ]
          }
         ],
         "name": "159"
        },
        {
         "data": [
          {
           "marker": {
            "color": "green",
            "size": 15
           },
           "mode": "markers",
           "type": "scatter",
           "x": [
            0.8000000000000006
           ],
           "y": [
            237.44000000000014
           ]
          }
         ],
         "name": "160"
        },
        {
         "data": [
          {
           "marker": {
            "color": "green",
            "size": 15
           },
           "mode": "markers",
           "type": "scatter",
           "x": [
            0.8050000000000006
           ],
           "y": [
            233.49550000000013
           ]
          }
         ],
         "name": "161"
        },
        {
         "data": [
          {
           "marker": {
            "color": "green",
            "size": 15
           },
           "mode": "markers",
           "type": "scatter",
           "x": [
            0.8100000000000006
           ],
           "y": [
            229.52650000000014
           ]
          }
         ],
         "name": "162"
        },
        {
         "data": [
          {
           "marker": {
            "color": "green",
            "size": 15
           },
           "mode": "markers",
           "type": "scatter",
           "x": [
            0.8150000000000006
           ],
           "y": [
            225.53300000000016
           ]
          }
         ],
         "name": "163"
        },
        {
         "data": [
          {
           "marker": {
            "color": "green",
            "size": 15
           },
           "mode": "markers",
           "type": "scatter",
           "x": [
            0.8200000000000006
           ],
           "y": [
            221.51500000000016
           ]
          }
         ],
         "name": "164"
        },
        {
         "data": [
          {
           "marker": {
            "color": "green",
            "size": 15
           },
           "mode": "markers",
           "type": "scatter",
           "x": [
            0.8250000000000006
           ],
           "y": [
            217.47250000000017
           ]
          }
         ],
         "name": "165"
        },
        {
         "data": [
          {
           "marker": {
            "color": "green",
            "size": 15
           },
           "mode": "markers",
           "type": "scatter",
           "x": [
            0.8300000000000006
           ],
           "y": [
            213.40550000000016
           ]
          }
         ],
         "name": "166"
        },
        {
         "data": [
          {
           "marker": {
            "color": "green",
            "size": 15
           },
           "mode": "markers",
           "type": "scatter",
           "x": [
            0.8350000000000006
           ],
           "y": [
            209.31400000000016
           ]
          }
         ],
         "name": "167"
        },
        {
         "data": [
          {
           "marker": {
            "color": "green",
            "size": 15
           },
           "mode": "markers",
           "type": "scatter",
           "x": [
            0.8400000000000006
           ],
           "y": [
            205.19800000000018
           ]
          }
         ],
         "name": "168"
        },
        {
         "data": [
          {
           "marker": {
            "color": "green",
            "size": 15
           },
           "mode": "markers",
           "type": "scatter",
           "x": [
            0.8450000000000006
           ],
           "y": [
            201.05750000000018
           ]
          }
         ],
         "name": "169"
        },
        {
         "data": [
          {
           "marker": {
            "color": "green",
            "size": 15
           },
           "mode": "markers",
           "type": "scatter",
           "x": [
            0.8500000000000006
           ],
           "y": [
            196.89250000000018
           ]
          }
         ],
         "name": "170"
        },
        {
         "data": [
          {
           "marker": {
            "color": "green",
            "size": 15
           },
           "mode": "markers",
           "type": "scatter",
           "x": [
            0.8550000000000006
           ],
           "y": [
            192.7030000000002
           ]
          }
         ],
         "name": "171"
        },
        {
         "data": [
          {
           "marker": {
            "color": "green",
            "size": 15
           },
           "mode": "markers",
           "type": "scatter",
           "x": [
            0.8600000000000007
           ],
           "y": [
            188.4890000000002
           ]
          }
         ],
         "name": "172"
        },
        {
         "data": [
          {
           "marker": {
            "color": "green",
            "size": 15
           },
           "mode": "markers",
           "type": "scatter",
           "x": [
            0.8650000000000007
           ],
           "y": [
            184.25050000000022
           ]
          }
         ],
         "name": "173"
        },
        {
         "data": [
          {
           "marker": {
            "color": "green",
            "size": 15
           },
           "mode": "markers",
           "type": "scatter",
           "x": [
            0.8700000000000007
           ],
           "y": [
            179.9875000000002
           ]
          }
         ],
         "name": "174"
        },
        {
         "data": [
          {
           "marker": {
            "color": "green",
            "size": 15
           },
           "mode": "markers",
           "type": "scatter",
           "x": [
            0.8750000000000007
           ],
           "y": [
            175.70000000000022
           ]
          }
         ],
         "name": "175"
        },
        {
         "data": [
          {
           "marker": {
            "color": "green",
            "size": 15
           },
           "mode": "markers",
           "type": "scatter",
           "x": [
            0.8800000000000007
           ],
           "y": [
            171.38800000000023
           ]
          }
         ],
         "name": "176"
        },
        {
         "data": [
          {
           "marker": {
            "color": "green",
            "size": 15
           },
           "mode": "markers",
           "type": "scatter",
           "x": [
            0.8850000000000007
           ],
           "y": [
            167.05150000000023
           ]
          }
         ],
         "name": "177"
        },
        {
         "data": [
          {
           "marker": {
            "color": "green",
            "size": 15
           },
           "mode": "markers",
           "type": "scatter",
           "x": [
            0.8900000000000007
           ],
           "y": [
            162.69050000000024
           ]
          }
         ],
         "name": "178"
        },
        {
         "data": [
          {
           "marker": {
            "color": "green",
            "size": 15
           },
           "mode": "markers",
           "type": "scatter",
           "x": [
            0.8950000000000007
           ],
           "y": [
            158.30500000000026
           ]
          }
         ],
         "name": "179"
        },
        {
         "data": [
          {
           "marker": {
            "color": "green",
            "size": 15
           },
           "mode": "markers",
           "type": "scatter",
           "x": [
            0.9000000000000007
           ],
           "y": [
            153.89500000000027
           ]
          }
         ],
         "name": "180"
        },
        {
         "data": [
          {
           "marker": {
            "color": "green",
            "size": 15
           },
           "mode": "markers",
           "type": "scatter",
           "x": [
            0.9050000000000007
           ],
           "y": [
            149.46050000000028
           ]
          }
         ],
         "name": "181"
        },
        {
         "data": [
          {
           "marker": {
            "color": "green",
            "size": 15
           },
           "mode": "markers",
           "type": "scatter",
           "x": [
            0.9100000000000007
           ],
           "y": [
            145.00150000000028
           ]
          }
         ],
         "name": "182"
        },
        {
         "data": [
          {
           "marker": {
            "color": "green",
            "size": 15
           },
           "mode": "markers",
           "type": "scatter",
           "x": [
            0.9150000000000007
           ],
           "y": [
            140.51800000000028
           ]
          }
         ],
         "name": "183"
        },
        {
         "data": [
          {
           "marker": {
            "color": "green",
            "size": 15
           },
           "mode": "markers",
           "type": "scatter",
           "x": [
            0.9200000000000007
           ],
           "y": [
            136.0100000000003
           ]
          }
         ],
         "name": "184"
        },
        {
         "data": [
          {
           "marker": {
            "color": "green",
            "size": 15
           },
           "mode": "markers",
           "type": "scatter",
           "x": [
            0.9250000000000007
           ],
           "y": [
            131.4775000000003
           ]
          }
         ],
         "name": "185"
        },
        {
         "data": [
          {
           "marker": {
            "color": "green",
            "size": 15
           },
           "mode": "markers",
           "type": "scatter",
           "x": [
            0.9300000000000007
           ],
           "y": [
            126.92050000000032
           ]
          }
         ],
         "name": "186"
        },
        {
         "data": [
          {
           "marker": {
            "color": "green",
            "size": 15
           },
           "mode": "markers",
           "type": "scatter",
           "x": [
            0.9350000000000007
           ],
           "y": [
            122.33900000000033
           ]
          }
         ],
         "name": "187"
        },
        {
         "data": [
          {
           "marker": {
            "color": "green",
            "size": 15
           },
           "mode": "markers",
           "type": "scatter",
           "x": [
            0.9400000000000007
           ],
           "y": [
            117.73300000000033
           ]
          }
         ],
         "name": "188"
        },
        {
         "data": [
          {
           "marker": {
            "color": "green",
            "size": 15
           },
           "mode": "markers",
           "type": "scatter",
           "x": [
            0.9450000000000007
           ],
           "y": [
            113.10250000000035
           ]
          }
         ],
         "name": "189"
        },
        {
         "data": [
          {
           "marker": {
            "color": "green",
            "size": 15
           },
           "mode": "markers",
           "type": "scatter",
           "x": [
            0.9500000000000007
           ],
           "y": [
            108.44750000000036
           ]
          }
         ],
         "name": "190"
        },
        {
         "data": [
          {
           "marker": {
            "color": "green",
            "size": 15
           },
           "mode": "markers",
           "type": "scatter",
           "x": [
            0.9550000000000007
           ],
           "y": [
            103.76800000000037
           ]
          }
         ],
         "name": "191"
        },
        {
         "data": [
          {
           "marker": {
            "color": "green",
            "size": 15
           },
           "mode": "markers",
           "type": "scatter",
           "x": [
            0.9600000000000007
           ],
           "y": [
            99.06400000000038
           ]
          }
         ],
         "name": "192"
        },
        {
         "data": [
          {
           "marker": {
            "color": "green",
            "size": 15
           },
           "mode": "markers",
           "type": "scatter",
           "x": [
            0.9650000000000007
           ],
           "y": [
            94.3355000000004
           ]
          }
         ],
         "name": "193"
        },
        {
         "data": [
          {
           "marker": {
            "color": "green",
            "size": 15
           },
           "mode": "markers",
           "type": "scatter",
           "x": [
            0.9700000000000008
           ],
           "y": [
            89.58250000000041
           ]
          }
         ],
         "name": "194"
        },
        {
         "data": [
          {
           "marker": {
            "color": "green",
            "size": 15
           },
           "mode": "markers",
           "type": "scatter",
           "x": [
            0.9750000000000008
           ],
           "y": [
            84.80500000000042
           ]
          }
         ],
         "name": "195"
        },
        {
         "data": [
          {
           "marker": {
            "color": "green",
            "size": 15
           },
           "mode": "markers",
           "type": "scatter",
           "x": [
            0.9800000000000008
           ],
           "y": [
            80.00300000000043
           ]
          }
         ],
         "name": "196"
        },
        {
         "data": [
          {
           "marker": {
            "color": "green",
            "size": 15
           },
           "mode": "markers",
           "type": "scatter",
           "x": [
            0.9850000000000008
           ],
           "y": [
            75.17650000000044
           ]
          }
         ],
         "name": "197"
        },
        {
         "data": [
          {
           "marker": {
            "color": "green",
            "size": 15
           },
           "mode": "markers",
           "type": "scatter",
           "x": [
            0.9900000000000008
           ],
           "y": [
            70.32550000000046
           ]
          }
         ],
         "name": "198"
        },
        {
         "data": [
          {
           "marker": {
            "color": "green",
            "size": 15
           },
           "mode": "markers",
           "type": "scatter",
           "x": [
            0.9950000000000008
           ],
           "y": [
            65.45000000000047
           ]
          }
         ],
         "name": "199"
        }
       ],
       "layout": {
        "template": {
         "data": {
          "bar": [
           {
            "error_x": {
             "color": "#2a3f5f"
            },
            "error_y": {
             "color": "#2a3f5f"
            },
            "marker": {
             "line": {
              "color": "#E5ECF6",
              "width": 0.5
             },
             "pattern": {
              "fillmode": "overlay",
              "size": 10,
              "solidity": 0.2
             }
            },
            "type": "bar"
           }
          ],
          "barpolar": [
           {
            "marker": {
             "line": {
              "color": "#E5ECF6",
              "width": 0.5
             },
             "pattern": {
              "fillmode": "overlay",
              "size": 10,
              "solidity": 0.2
             }
            },
            "type": "barpolar"
           }
          ],
          "carpet": [
           {
            "aaxis": {
             "endlinecolor": "#2a3f5f",
             "gridcolor": "white",
             "linecolor": "white",
             "minorgridcolor": "white",
             "startlinecolor": "#2a3f5f"
            },
            "baxis": {
             "endlinecolor": "#2a3f5f",
             "gridcolor": "white",
             "linecolor": "white",
             "minorgridcolor": "white",
             "startlinecolor": "#2a3f5f"
            },
            "type": "carpet"
           }
          ],
          "choropleth": [
           {
            "colorbar": {
             "outlinewidth": 0,
             "ticks": ""
            },
            "type": "choropleth"
           }
          ],
          "contour": [
           {
            "colorbar": {
             "outlinewidth": 0,
             "ticks": ""
            },
            "colorscale": [
             [
              0,
              "#0d0887"
             ],
             [
              0.1111111111111111,
              "#46039f"
             ],
             [
              0.2222222222222222,
              "#7201a8"
             ],
             [
              0.3333333333333333,
              "#9c179e"
             ],
             [
              0.4444444444444444,
              "#bd3786"
             ],
             [
              0.5555555555555556,
              "#d8576b"
             ],
             [
              0.6666666666666666,
              "#ed7953"
             ],
             [
              0.7777777777777778,
              "#fb9f3a"
             ],
             [
              0.8888888888888888,
              "#fdca26"
             ],
             [
              1,
              "#f0f921"
             ]
            ],
            "type": "contour"
           }
          ],
          "contourcarpet": [
           {
            "colorbar": {
             "outlinewidth": 0,
             "ticks": ""
            },
            "type": "contourcarpet"
           }
          ],
          "heatmap": [
           {
            "colorbar": {
             "outlinewidth": 0,
             "ticks": ""
            },
            "colorscale": [
             [
              0,
              "#0d0887"
             ],
             [
              0.1111111111111111,
              "#46039f"
             ],
             [
              0.2222222222222222,
              "#7201a8"
             ],
             [
              0.3333333333333333,
              "#9c179e"
             ],
             [
              0.4444444444444444,
              "#bd3786"
             ],
             [
              0.5555555555555556,
              "#d8576b"
             ],
             [
              0.6666666666666666,
              "#ed7953"
             ],
             [
              0.7777777777777778,
              "#fb9f3a"
             ],
             [
              0.8888888888888888,
              "#fdca26"
             ],
             [
              1,
              "#f0f921"
             ]
            ],
            "type": "heatmap"
           }
          ],
          "histogram": [
           {
            "marker": {
             "pattern": {
              "fillmode": "overlay",
              "size": 10,
              "solidity": 0.2
             }
            },
            "type": "histogram"
           }
          ],
          "histogram2d": [
           {
            "colorbar": {
             "outlinewidth": 0,
             "ticks": ""
            },
            "colorscale": [
             [
              0,
              "#0d0887"
             ],
             [
              0.1111111111111111,
              "#46039f"
             ],
             [
              0.2222222222222222,
              "#7201a8"
             ],
             [
              0.3333333333333333,
              "#9c179e"
             ],
             [
              0.4444444444444444,
              "#bd3786"
             ],
             [
              0.5555555555555556,
              "#d8576b"
             ],
             [
              0.6666666666666666,
              "#ed7953"
             ],
             [
              0.7777777777777778,
              "#fb9f3a"
             ],
             [
              0.8888888888888888,
              "#fdca26"
             ],
             [
              1,
              "#f0f921"
             ]
            ],
            "type": "histogram2d"
           }
          ],
          "histogram2dcontour": [
           {
            "colorbar": {
             "outlinewidth": 0,
             "ticks": ""
            },
            "colorscale": [
             [
              0,
              "#0d0887"
             ],
             [
              0.1111111111111111,
              "#46039f"
             ],
             [
              0.2222222222222222,
              "#7201a8"
             ],
             [
              0.3333333333333333,
              "#9c179e"
             ],
             [
              0.4444444444444444,
              "#bd3786"
             ],
             [
              0.5555555555555556,
              "#d8576b"
             ],
             [
              0.6666666666666666,
              "#ed7953"
             ],
             [
              0.7777777777777778,
              "#fb9f3a"
             ],
             [
              0.8888888888888888,
              "#fdca26"
             ],
             [
              1,
              "#f0f921"
             ]
            ],
            "type": "histogram2dcontour"
           }
          ],
          "mesh3d": [
           {
            "colorbar": {
             "outlinewidth": 0,
             "ticks": ""
            },
            "type": "mesh3d"
           }
          ],
          "parcoords": [
           {
            "line": {
             "colorbar": {
              "outlinewidth": 0,
              "ticks": ""
             }
            },
            "type": "parcoords"
           }
          ],
          "pie": [
           {
            "automargin": true,
            "type": "pie"
           }
          ],
          "scatter": [
           {
            "fillpattern": {
             "fillmode": "overlay",
             "size": 10,
             "solidity": 0.2
            },
            "type": "scatter"
           }
          ],
          "scatter3d": [
           {
            "line": {
             "colorbar": {
              "outlinewidth": 0,
              "ticks": ""
             }
            },
            "marker": {
             "colorbar": {
              "outlinewidth": 0,
              "ticks": ""
             }
            },
            "type": "scatter3d"
           }
          ],
          "scattercarpet": [
           {
            "marker": {
             "colorbar": {
              "outlinewidth": 0,
              "ticks": ""
             }
            },
            "type": "scattercarpet"
           }
          ],
          "scattergeo": [
           {
            "marker": {
             "colorbar": {
              "outlinewidth": 0,
              "ticks": ""
             }
            },
            "type": "scattergeo"
           }
          ],
          "scattergl": [
           {
            "marker": {
             "colorbar": {
              "outlinewidth": 0,
              "ticks": ""
             }
            },
            "type": "scattergl"
           }
          ],
          "scattermap": [
           {
            "marker": {
             "colorbar": {
              "outlinewidth": 0,
              "ticks": ""
             }
            },
            "type": "scattermap"
           }
          ],
          "scattermapbox": [
           {
            "marker": {
             "colorbar": {
              "outlinewidth": 0,
              "ticks": ""
             }
            },
            "type": "scattermapbox"
           }
          ],
          "scatterpolar": [
           {
            "marker": {
             "colorbar": {
              "outlinewidth": 0,
              "ticks": ""
             }
            },
            "type": "scatterpolar"
           }
          ],
          "scatterpolargl": [
           {
            "marker": {
             "colorbar": {
              "outlinewidth": 0,
              "ticks": ""
             }
            },
            "type": "scatterpolargl"
           }
          ],
          "scatterternary": [
           {
            "marker": {
             "colorbar": {
              "outlinewidth": 0,
              "ticks": ""
             }
            },
            "type": "scatterternary"
           }
          ],
          "surface": [
           {
            "colorbar": {
             "outlinewidth": 0,
             "ticks": ""
            },
            "colorscale": [
             [
              0,
              "#0d0887"
             ],
             [
              0.1111111111111111,
              "#46039f"
             ],
             [
              0.2222222222222222,
              "#7201a8"
             ],
             [
              0.3333333333333333,
              "#9c179e"
             ],
             [
              0.4444444444444444,
              "#bd3786"
             ],
             [
              0.5555555555555556,
              "#d8576b"
             ],
             [
              0.6666666666666666,
              "#ed7953"
             ],
             [
              0.7777777777777778,
              "#fb9f3a"
             ],
             [
              0.8888888888888888,
              "#fdca26"
             ],
             [
              1,
              "#f0f921"
             ]
            ],
            "type": "surface"
           }
          ],
          "table": [
           {
            "cells": {
             "fill": {
              "color": "#EBF0F8"
             },
             "line": {
              "color": "white"
             }
            },
            "header": {
             "fill": {
              "color": "#C8D4E3"
             },
             "line": {
              "color": "white"
             }
            },
            "type": "table"
           }
          ]
         },
         "layout": {
          "annotationdefaults": {
           "arrowcolor": "#2a3f5f",
           "arrowhead": 0,
           "arrowwidth": 1
          },
          "autotypenumbers": "strict",
          "coloraxis": {
           "colorbar": {
            "outlinewidth": 0,
            "ticks": ""
           }
          },
          "colorscale": {
           "diverging": [
            [
             0,
             "#8e0152"
            ],
            [
             0.1,
             "#c51b7d"
            ],
            [
             0.2,
             "#de77ae"
            ],
            [
             0.3,
             "#f1b6da"
            ],
            [
             0.4,
             "#fde0ef"
            ],
            [
             0.5,
             "#f7f7f7"
            ],
            [
             0.6,
             "#e6f5d0"
            ],
            [
             0.7,
             "#b8e186"
            ],
            [
             0.8,
             "#7fbc41"
            ],
            [
             0.9,
             "#4d9221"
            ],
            [
             1,
             "#276419"
            ]
           ],
           "sequential": [
            [
             0,
             "#0d0887"
            ],
            [
             0.1111111111111111,
             "#46039f"
            ],
            [
             0.2222222222222222,
             "#7201a8"
            ],
            [
             0.3333333333333333,
             "#9c179e"
            ],
            [
             0.4444444444444444,
             "#bd3786"
            ],
            [
             0.5555555555555556,
             "#d8576b"
            ],
            [
             0.6666666666666666,
             "#ed7953"
            ],
            [
             0.7777777777777778,
             "#fb9f3a"
            ],
            [
             0.8888888888888888,
             "#fdca26"
            ],
            [
             1,
             "#f0f921"
            ]
           ],
           "sequentialminus": [
            [
             0,
             "#0d0887"
            ],
            [
             0.1111111111111111,
             "#46039f"
            ],
            [
             0.2222222222222222,
             "#7201a8"
            ],
            [
             0.3333333333333333,
             "#9c179e"
            ],
            [
             0.4444444444444444,
             "#bd3786"
            ],
            [
             0.5555555555555556,
             "#d8576b"
            ],
            [
             0.6666666666666666,
             "#ed7953"
            ],
            [
             0.7777777777777778,
             "#fb9f3a"
            ],
            [
             0.8888888888888888,
             "#fdca26"
            ],
            [
             1,
             "#f0f921"
            ]
           ]
          },
          "colorway": [
           "#636efa",
           "#EF553B",
           "#00cc96",
           "#ab63fa",
           "#FFA15A",
           "#19d3f3",
           "#FF6692",
           "#B6E880",
           "#FF97FF",
           "#FECB52"
          ],
          "font": {
           "color": "#2a3f5f"
          },
          "geo": {
           "bgcolor": "white",
           "lakecolor": "white",
           "landcolor": "#E5ECF6",
           "showlakes": true,
           "showland": true,
           "subunitcolor": "white"
          },
          "hoverlabel": {
           "align": "left"
          },
          "hovermode": "closest",
          "mapbox": {
           "style": "light"
          },
          "paper_bgcolor": "white",
          "plot_bgcolor": "#E5ECF6",
          "polar": {
           "angularaxis": {
            "gridcolor": "white",
            "linecolor": "white",
            "ticks": ""
           },
           "bgcolor": "#E5ECF6",
           "radialaxis": {
            "gridcolor": "white",
            "linecolor": "white",
            "ticks": ""
           }
          },
          "scene": {
           "xaxis": {
            "backgroundcolor": "#E5ECF6",
            "gridcolor": "white",
            "gridwidth": 2,
            "linecolor": "white",
            "showbackground": true,
            "ticks": "",
            "zerolinecolor": "white"
           },
           "yaxis": {
            "backgroundcolor": "#E5ECF6",
            "gridcolor": "white",
            "gridwidth": 2,
            "linecolor": "white",
            "showbackground": true,
            "ticks": "",
            "zerolinecolor": "white"
           },
           "zaxis": {
            "backgroundcolor": "#E5ECF6",
            "gridcolor": "white",
            "gridwidth": 2,
            "linecolor": "white",
            "showbackground": true,
            "ticks": "",
            "zerolinecolor": "white"
           }
          },
          "shapedefaults": {
           "line": {
            "color": "#2a3f5f"
           }
          },
          "ternary": {
           "aaxis": {
            "gridcolor": "white",
            "linecolor": "white",
            "ticks": ""
           },
           "baxis": {
            "gridcolor": "white",
            "linecolor": "white",
            "ticks": ""
           },
           "bgcolor": "#E5ECF6",
           "caxis": {
            "gridcolor": "white",
            "linecolor": "white",
            "ticks": ""
           }
          },
          "title": {
           "x": 0.05
          },
          "xaxis": {
           "automargin": true,
           "gridcolor": "white",
           "linecolor": "white",
           "ticks": "",
           "title": {
            "standoff": 15
           },
           "zerolinecolor": "white",
           "zerolinewidth": 2
          },
          "yaxis": {
           "automargin": true,
           "gridcolor": "white",
           "linecolor": "white",
           "ticks": "",
           "title": {
            "standoff": 15
           },
           "zerolinecolor": "white",
           "zerolinewidth": 2
          }
         }
        },
        "title": {
         "text": "Particle falling under gravity"
        },
        "updatemenus": [
         {
          "buttons": [
           {
            "args": [
             null,
             {
              "frame": {
               "duration": 50,
               "redraw": true
              },
              "fromcurrent": true
             }
            ],
            "label": "Play",
            "method": "animate"
           },
           {
            "args": [
             [
              null
             ],
             {
              "frame": {
               "duration": 0,
               "redraw": false
              },
              "mode": "immediate"
             }
            ],
            "label": "Pause",
            "method": "animate"
           }
          ],
          "showactive": false,
          "type": "buttons"
         }
        ],
        "xaxis": {
         "range": [
          -2,
          2
         ],
         "title": {
          "text": "Position (m)"
         }
        },
        "yaxis": {
         "range": [
          0,
          600
         ],
         "title": {
          "text": "Height (m)"
         }
        }
       }
      }
     },
     "metadata": {},
     "output_type": "display_data"
    }
   ],
   "source": [
    "import numpy as np\n",
    "import plotly.graph_objects as go\n",
    "import plotly.io as pio\n",
    "import matplotlib.pyplot as plt\n",
    "\n",
    "pio.renderers.default = \"vscode\"   # for VS Code\n",
    "\n",
    "# Parameters\n",
    "T = 10.0   # s\n",
    "m = 0.3    # kg\n",
    "g = 9.8    # m/s^2\n",
    "v0x = -0.1 # m/s\n",
    "H = 553.0  # m\n",
    "\n",
    "# Time discretization\n",
    "dt = 0.05\n",
    "N = int(T / dt)\n",
    "time = np.linspace(0, T, N+1)\n",
    "\n",
    "# Arrays for dynamics\n",
    "v = np.zeros((N+1, 2))\n",
    "r = np.zeros((N+1, 2))\n",
    "f = np.zeros((N+1, 2))\n",
    "\n",
    "# Initial conditions\n",
    "r[0] = np.array([0., H])\n",
    "v[0] = np.array([-v0x, 0.])\n",
    "\n",
    "# Force (gravity only)\n",
    "f[:] = np.array([0., -m*g])\n",
    "\n",
    "# Time integration (Euler method)\n",
    "for n in range(N):\n",
    "    v[n+1] = v[n] + f[n]/m * dt\n",
    "    r[n+1] = r[n] + v[n+1] * dt\n",
    "\n",
    "# Create animation frames\n",
    "frames = [\n",
    "    go.Frame(\n",
    "        data=[go.Scatter(x=[r[i,0]], y=[r[i,1]], mode=\"markers\", marker=dict(size=15, color=\"green\"))],\n",
    "        name=str(i)\n",
    "    )\n",
    "    for i in range(N)\n",
    "]\n",
    "\n",
    "# Base figure\n",
    "fig = go.Figure(\n",
    "    data=[go.Scatter(x=[r[0,0]], y=[r[0,1]], mode=\"markers\", marker=dict(size=15, color=\"green\"))],\n",
    "    layout=go.Layout(\n",
    "        xaxis=dict(range=[-2, 2], title=\"Position (m)\"),\n",
    "        yaxis=dict(range=[0, 600], title=\"Height (m)\"),\n",
    "        title=\"Particle falling under gravity\",\n",
    "        updatemenus=[dict(\n",
    "            type=\"buttons\",\n",
    "            showactive=False,\n",
    "            buttons=[\n",
    "                dict(label=\"Play\",\n",
    "                     method=\"animate\",\n",
    "                     args=[None, {\"frame\": {\"duration\": dt*1000, \"redraw\": True},\n",
    "                                  \"fromcurrent\": True}]),\n",
    "                dict(label=\"Pause\",\n",
    "                     method=\"animate\",\n",
    "                     args=[[None], {\"frame\": {\"duration\": 0, \"redraw\": False},\n",
    "                                    \"mode\": \"immediate\"}])\n",
    "            ]\n",
    "        )]\n",
    "    ),\n",
    "    frames=frames\n",
    ")\n",
    "\n",
    "fig.show()"
   ]
  },
  {
   "cell_type": "code",
   "execution_count": 33,
   "id": "6d826373",
   "metadata": {},
   "outputs": [
    {
     "data": {
      "image/png": "[encoded data removed]",
      "text/plain": [
       "<Figure size 640x480 with 1 Axes>"
      ]
     },
     "metadata": {},
     "output_type": "display_data"
    },
    {
     "data": {
      "image/png": "[encoded data removed]",
      "text/plain": [
       "<Figure size 640x480 with 1 Axes>"
      ]
     },
     "metadata": {},
     "output_type": "display_data"
    }
   ],
   "source": [
    "\n",
    "# Plotting the Position of the Particle using Matplotlib\n",
    "figure = plt.figure()\n",
    "plt.plot(r[:,0], r[:,1])\n",
    "plt.xlim([-0.5, 1.5])\n",
    "plt.ylim([0, 600])\n",
    "plt.xlabel(\"Position (m)\")\n",
    "plt.ylabel(\"Height (m)\")\n",
    "plt.title(\"Particle falling under gravity\")\n",
    "plt.grid()\n",
    "plt.show()\n",
    "\n",
    "# Plotting the Position of the Particle using Matplotlib\n",
    "figure = plt.figure()\n",
    "plt.plot(np.linspace(0, N*dt, len(v[:,1])), v[:,1])\n",
    "#plt.ylim([0, 600])\n",
    "plt.xlabel(\"Time (s)\")\n",
    "plt.ylabel(\"Velocity (m/s)\")\n",
    "plt.title(\"Particle Velocity falling under gravity\")\n",
    "plt.grid()\n",
    "plt.show()\n"
   ]
  }
 ],
 "metadata": {
  "kernelspec": {
   "display_name": "Python 3",
   "language": "python",
   "name": "python3"
  },
  "language_info": {
   "codemirror_mode": {
    "name": "ipython",
    "version": 3
   },
   "file_extension": ".py",
   "mimetype": "text/x-python",
   "name": "python",
   "nbconvert_exporter": "python",
   "pygments_lexer": "ipython3",
   "version": "3.12.10"
  }
 },
 "nbformat": 4,
 "nbformat_minor": 5
}
